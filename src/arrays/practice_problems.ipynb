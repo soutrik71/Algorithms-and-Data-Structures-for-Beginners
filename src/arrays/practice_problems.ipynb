{
 "cells": [
  {
   "cell_type": "markdown",
   "metadata": {
    "vscode": {
     "languageId": "plaintext"
    }
   },
   "source": [
    "## Arrays\n",
    "In this notebook we will discuss about all the leetcode problems as discussed on arrays"
   ]
  },
  {
   "cell_type": "markdown",
   "metadata": {
    "vscode": {
     "languageId": "plaintext"
    }
   },
   "source": [
    "```markdown\n",
    "Q1:\n",
    "Given an integer array nums of size n, return the number with the value closest to 0 in nums. If there are multiple answers, return the number with the largest value.\n",
    "\n",
    "Example 1:\n",
    "Input: nums = [-4,-2,1,4,8]\n",
    "Output: 1\n",
    "Explanation:\n",
    "The distance from -4 to 0 is |-4| = 4.\n",
    "The distance from -2 to 0 is |-2| = 2.\n",
    "The distance from 1 to 0 is |1| = 1.\n",
    "The distance from 4 to 0 is |4| = 4.\n",
    "The distance from 8 to 0 is |8| = 8.\n",
    "Thus, the closest number to 0 in the array is 1.\n",
    "\n",
    "Example 2:\n",
    "Input: nums = [2,-1,1]\n",
    "Output: 1\n",
    "Explanation: 1 and -1 are both the closest numbers to 0, so 1 being larger is returned.\n",
    "```"
   ]
  },
  {
   "cell_type": "code",
   "execution_count": 1,
   "metadata": {},
   "outputs": [],
   "source": [
    "nums = [-4, -2, 1, 4, 8]"
   ]
  },
  {
   "cell_type": "code",
   "execution_count": 2,
   "metadata": {},
   "outputs": [
    {
     "data": {
      "text/plain": [
       "1"
      ]
     },
     "execution_count": 2,
     "metadata": {},
     "output_type": "execute_result"
    }
   ],
   "source": [
    "ls = list(map(lambda x: abs(x - 0), nums))\n",
    "ls[ls.index(min(ls))]"
   ]
  },
  {
   "cell_type": "code",
   "execution_count": 3,
   "metadata": {},
   "outputs": [
    {
     "name": "stdout",
     "output_type": "stream",
     "text": [
      "[2, 1, 1]\n"
     ]
    }
   ],
   "source": [
    "nums = [2, -1, 1]\n",
    "ls = list(map(lambda x: abs(x - 0), nums))\n",
    "print(ls)"
   ]
  },
  {
   "cell_type": "code",
   "execution_count": 4,
   "metadata": {},
   "outputs": [
    {
     "data": {
      "text/plain": [
       "1"
      ]
     },
     "execution_count": 4,
     "metadata": {},
     "output_type": "execute_result"
    }
   ],
   "source": [
    "ls.index(min(ls))"
   ]
  },
  {
   "cell_type": "code",
   "execution_count": 5,
   "metadata": {},
   "outputs": [],
   "source": [
    "nums = [-4, -2, 1, 4, 8]\n",
    "nums = [2, -1, 1]"
   ]
  },
  {
   "cell_type": "code",
   "execution_count": 6,
   "metadata": {},
   "outputs": [],
   "source": [
    "from typing import List\n",
    "\n",
    "\n",
    "# solution 1 with sort and binary search slower approach O(nlogn) + O(logn) = O(nlogn)\n",
    "class Solution:\n",
    "    def findClosestNumber(self, nums: List[int]) -> int:\n",
    "        min_diff = min(list(map(lambda x: abs(x - 0), nums)))\n",
    "        val = max(list(filter(lambda x: abs(x - 0) == min_diff, nums)))\n",
    "        return val"
   ]
  },
  {
   "cell_type": "code",
   "execution_count": 7,
   "metadata": {},
   "outputs": [
    {
     "data": {
      "text/plain": [
       "1"
      ]
     },
     "execution_count": 7,
     "metadata": {},
     "output_type": "execute_result"
    }
   ],
   "source": [
    "Solution().findClosestNumber(nums)"
   ]
  },
  {
   "cell_type": "code",
   "execution_count": 8,
   "metadata": {},
   "outputs": [],
   "source": [
    "# faster solution using one pass and O(1) space complexity\n",
    "class Solution:\n",
    "    def findClosestNumber(self, nums: List[int]) -> int:\n",
    "        closest = nums[0]\n",
    "        for x in nums:\n",
    "            if abs(x) < abs(closest):\n",
    "                closest = x\n",
    "\n",
    "        if closest < 0 and abs(closest) in nums:\n",
    "            return abs(closest)\n",
    "        else:\n",
    "            return closest"
   ]
  },
  {
   "cell_type": "code",
   "execution_count": 9,
   "metadata": {},
   "outputs": [
    {
     "data": {
      "text/plain": [
       "1"
      ]
     },
     "execution_count": 9,
     "metadata": {},
     "output_type": "execute_result"
    }
   ],
   "source": [
    "Solution().findClosestNumber(nums)"
   ]
  },
  {
   "cell_type": "code",
   "execution_count": 10,
   "metadata": {},
   "outputs": [
    {
     "data": {
      "text/plain": [
       "1"
      ]
     },
     "execution_count": 10,
     "metadata": {},
     "output_type": "execute_result"
    }
   ],
   "source": [
    "class Solution:\n",
    "    def findClosestNumber(self, nums: List[int]) -> int:\n",
    "        return min(sorted(nums, reverse=True), key=abs)\n",
    "\n",
    "\n",
    "Solution().findClosestNumber(nums)"
   ]
  },
  {
   "cell_type": "markdown",
   "metadata": {},
   "source": [
    "```Markdown\n",
    "Q2:\n",
    "You are given two strings word1 and word2. Merge the strings by adding letters in alternating order, starting with word1. If a string is longer than the other, append the additional letters onto the end of the merged string.\n",
    "\n",
    "Return the merged string.\n",
    "\n",
    " \n",
    "\n",
    "Example 1:\n",
    "\n",
    "Input: word1 = \"abc\", word2 = \"pqr\"\n",
    "Output: \"apbqcr\"\n",
    "Explanation: The merged string will be merged as so:\n",
    "word1:  a   b   c\n",
    "word2:    p   q   r\n",
    "merged: a p b q c r\n",
    "Example 2:\n",
    "\n",
    "Input: word1 = \"ab\", word2 = \"pqrs\"\n",
    "Output: \"apbqrs\"\n",
    "Explanation: Notice that as word2 is longer, \"rs\" is appended to the end.\n",
    "word1:  a   b \n",
    "word2:    p   q   r   s\n",
    "merged: a p b q   r   s\n",
    "Example 3:\n",
    "\n",
    "Input: word1 = \"abcd\", word2 = \"pq\"\n",
    "Output: \"apbqcd\"\n",
    "Explanation: Notice that as word1 is longer, \"cd\" is appended to the end.\n",
    "word1:  a   b   c   d\n",
    "word2:    p   q \n",
    "merged: a p b q c   d\n",
    "```"
   ]
  },
  {
   "cell_type": "code",
   "execution_count": 11,
   "metadata": {},
   "outputs": [],
   "source": [
    "word1 = \"abcd\"\n",
    "word2 = \"pq\"\n",
    "\n",
    "min_len = min(len(word1), len(word2))\n",
    "new_word = \"\"\n",
    "for i in range(min_len):\n",
    "    new_word += word1[i] + word2[i]\n",
    "\n",
    "new_word += word1[min_len:] + word2[min_len:]"
   ]
  },
  {
   "cell_type": "code",
   "execution_count": 12,
   "metadata": {},
   "outputs": [
    {
     "data": {
      "text/plain": [
       "'apbqcd'"
      ]
     },
     "execution_count": 12,
     "metadata": {},
     "output_type": "execute_result"
    }
   ],
   "source": [
    "# basic solution with O(n) time complexity and O(n) space complexity\n",
    "class Solution:\n",
    "    def mergeAlternately(self, word1: str, word2: str) -> str:\n",
    "        min_len = min(len(word1), len(word2))\n",
    "        new_word = \"\"\n",
    "        for i in range(min_len):\n",
    "            new_word += word1[i] + word2[i]\n",
    "\n",
    "        new_word += word1[min_len:] + word2[min_len:]\n",
    "\n",
    "        return new_word\n",
    "\n",
    "\n",
    "word1 = \"abcd\"\n",
    "word2 = \"pq\"\n",
    "\n",
    "Solution().mergeAlternately(word1, word2)"
   ]
  },
  {
   "cell_type": "code",
   "execution_count": 13,
   "metadata": {},
   "outputs": [
    {
     "data": {
      "text/plain": [
       "'apbqcd'"
      ]
     },
     "execution_count": 13,
     "metadata": {},
     "output_type": "execute_result"
    }
   ],
   "source": [
    "# better solution with O(n) time complexity and O(1) space complexity\n",
    "class Solution:\n",
    "    def mergeAlternately(self, word1: str, word2: str) -> str:\n",
    "\n",
    "        res = \"\"\n",
    "        len1 = len(word1)\n",
    "        len2 = len(word2)\n",
    "\n",
    "        for i in range(max(len1, len2)):\n",
    "            if i < len1:\n",
    "                res += word1[i]\n",
    "            if i < len2:\n",
    "                res += word2[i]\n",
    "\n",
    "        return res\n",
    "\n",
    "\n",
    "word1 = \"abcd\"\n",
    "word2 = \"pq\"\n",
    "\n",
    "Solution().mergeAlternately(word1, word2)"
   ]
  },
  {
   "cell_type": "markdown",
   "metadata": {},
   "source": [
    "```Markdown\n",
    "Q3:\n",
    "Given two strings s and t, return true if s is a subsequence of t, or false otherwise.\n",
    "\n",
    "A subsequence of a string is a new string that is formed from the original string by deleting some (can be none) of the characters without disturbing the relative positions of the remaining characters. (i.e., \"ace\" is a subsequence of \"abcde\" while \"aec\" is not).\n",
    "\n",
    " \n",
    "\n",
    "Example 1:\n",
    "\n",
    "Input: s = \"abc\", t = \"ahbgdc\"\n",
    "Output: true\n",
    "Example 2:\n",
    "\n",
    "Input: s = \"axc\", t = \"ahbgdc\"\n",
    "Output: false\n",
    "```\n",
    "\n",
    "```"
   ]
  },
  {
   "cell_type": "code",
   "execution_count": 3,
   "metadata": {},
   "outputs": [],
   "source": [
    "whole_word = \"baab\"\n",
    "sub_word = \"ab\""
   ]
  },
  {
   "cell_type": "code",
   "execution_count": 4,
   "metadata": {},
   "outputs": [],
   "source": [
    "class Solution:\n",
    "    def isSubsequence(self, s: str, t: str) -> bool:\n",
    "        \"\"\"\n",
    "        The idea is to iterate over the string t and check if the characters in s are present in t in the same order.\n",
    "        The time complexity is O(n) where n is the length of the string t.\n",
    "        \"\"\"\n",
    "        if len(s) > len(t):\n",
    "            return False\n",
    "        if len(s) == 0:\n",
    "            return True\n",
    "        j = 0\n",
    "        for i in range(len(t)):\n",
    "            if j <= len(s) - 1:\n",
    "                if s[j] == t[i]:\n",
    "                    j += 1\n",
    "        return j == len(s)"
   ]
  },
  {
   "cell_type": "code",
   "execution_count": 5,
   "metadata": {},
   "outputs": [
    {
     "data": {
      "text/plain": [
       "True"
      ]
     },
     "execution_count": 5,
     "metadata": {},
     "output_type": "execute_result"
    }
   ],
   "source": [
    "Solution().isSubsequence(sub_word, whole_word)"
   ]
  },
  {
   "cell_type": "markdown",
   "metadata": {},
   "source": [
    "```Markdown\n",
    "Q4:\n",
    "You are given an array prices where prices[i] is the price of a given stock on the ith day.\n",
    "\n",
    "You want to maximize your profit by choosing a single day to buy one stock and choosing a different day in the future to sell that stock.\n",
    "\n",
    "Return the maximum profit you can achieve from this transaction. If you cannot achieve any profit, return 0.\n",
    "\n",
    " \n",
    "\n",
    "Example 1:\n",
    "\n",
    "Input: prices = [7,1,5,3,6,4]\n",
    "Output: 5\n",
    "Explanation: Buy on day 2 (price = 1) and sell on day 5 (price = 6), profit = 6-1 = 5.\n",
    "Note that buying on day 2 and selling on day 1 is not allowed because you must buy before you sell.\n",
    "Example 2:\n",
    "\n",
    "Input: prices = [7,6,4,3,1]\n",
    "Output: 0\n",
    "Explanation: In this case, no transactions are done and the max profit = 0.\n",
    "```"
   ]
  },
  {
   "cell_type": "code",
   "execution_count": 35,
   "metadata": {},
   "outputs": [],
   "source": [
    "from typing import List\n",
    "\n",
    "\n",
    "class Solution:\n",
    "    def maxProfit(self, prices: List[int]) -> int:\n",
    "        if sorted(prices, reverse=True) == prices:\n",
    "            return 0\n",
    "\n",
    "        diff = []\n",
    "        for i in range(len(prices) - 1):\n",
    "            if prices[i] == max(prices):\n",
    "                continue\n",
    "            max_diffs = max([l - prices[i] for l in prices[i + 1 :]])\n",
    "            diff.append(max_diffs)\n",
    "\n",
    "        return max(diff)"
   ]
  },
  {
   "cell_type": "code",
   "execution_count": 40,
   "metadata": {},
   "outputs": [
    {
     "name": "stdout",
     "output_type": "stream",
     "text": [
      "5\n",
      "0\n"
     ]
    }
   ],
   "source": [
    "ls = [7, 1, 5, 3, 6, 4]\n",
    "ls1 = [7, 6, 4, 3, 1]\n",
    "print(Solution().maxProfit(ls))\n",
    "print(Solution().maxProfit(ls1))"
   ]
  },
  {
   "cell_type": "markdown",
   "metadata": {},
   "source": [
    "Better solution with O(n) time complexity and O(1) space complexity"
   ]
  },
  {
   "cell_type": "code",
   "execution_count": 39,
   "metadata": {},
   "outputs": [],
   "source": [
    "class Solution:\n",
    "    def maxProfit(self, prices: List[int]) -> int:\n",
    "        if sorted(prices, reverse=True) == prices:\n",
    "            return 0\n",
    "\n",
    "        min_price = float(\"inf\")\n",
    "        max_profit = 0\n",
    "\n",
    "        for price in prices:\n",
    "            if price < min_price:\n",
    "                min_price = price\n",
    "\n",
    "            cal_profit = price - min_price\n",
    "\n",
    "            if max_profit < cal_profit:\n",
    "                max_profit = cal_profit\n",
    "\n",
    "        return max_profit"
   ]
  },
  {
   "cell_type": "code",
   "execution_count": 41,
   "metadata": {},
   "outputs": [
    {
     "name": "stdout",
     "output_type": "stream",
     "text": [
      "5\n",
      "0\n"
     ]
    }
   ],
   "source": [
    "print(Solution().maxProfit(ls))\n",
    "print(Solution().maxProfit(ls1))"
   ]
  },
  {
   "cell_type": "code",
   "execution_count": 44,
   "metadata": {},
   "outputs": [],
   "source": [
    "class Solution:\n",
    "    def maxProfit(self, prices: List[int]) -> int:\n",
    "        buy_price = prices[0]\n",
    "        profit = 0\n",
    "\n",
    "        for p in prices[1:]:\n",
    "            if buy_price > p:\n",
    "                buy_price = p\n",
    "\n",
    "            profit = max(profit, p - buy_price)\n",
    "\n",
    "        return profit"
   ]
  },
  {
   "cell_type": "code",
   "execution_count": 45,
   "metadata": {},
   "outputs": [
    {
     "name": "stdout",
     "output_type": "stream",
     "text": [
      "5\n",
      "0\n"
     ]
    }
   ],
   "source": [
    "print(Solution().maxProfit(ls))\n",
    "print(Solution().maxProfit(ls1))"
   ]
  },
  {
   "cell_type": "markdown",
   "metadata": {},
   "source": [
    "```"
   ]
  },
  {
   "cell_type": "markdown",
   "metadata": {},
   "source": [
    "```markdown\n",
    "Q5:\n",
    "Write a function to find the longest common prefix string amongst an array of strings.\n",
    "\n",
    "If there is no common prefix, return an empty string \"\".\n",
    "\n",
    " \n",
    "\n",
    "Example 1:\n",
    "\n",
    "Input: strs = [\"flower\",\"flow\",\"flight\"]\n",
    "Output: \"fl\"\n",
    "Example 2:\n",
    "\n",
    "Input: strs = [\"dog\",\"racecar\",\"car\"]\n",
    "Output: \"\"\n",
    "Explanation: There is no common prefix among the input strings.\n",
    "```\n",
    "\n",
    "```"
   ]
  },
  {
   "cell_type": "code",
   "execution_count": 66,
   "metadata": {},
   "outputs": [],
   "source": [
    "class Solution:\n",
    "    def longestCommonPrefix(self, strs: List[str]) -> str:\n",
    "        sorted_strs = sorted(strs, key=len)\n",
    "\n",
    "        if len(sorted_strs) <= 1:\n",
    "            return sorted_strs[0]\n",
    "\n",
    "        for i in range(len(sorted_strs[0])):\n",
    "            print(sorted_strs[0][i])\n",
    "            all_match = all(sorted_strs[0][i] == s[i] for s in sorted_strs)\n",
    "            print(all_match)\n",
    "            if not all_match:\n",
    "                return sorted_strs[0][:i]\n",
    "        return \"\""
   ]
  },
  {
   "cell_type": "code",
   "execution_count": 67,
   "metadata": {},
   "outputs": [],
   "source": [
    "ls1 = [\"flower\", \"flow\", \"flight\"]\n",
    "ls2 = [\"dog\", \"racecar\", \"car\"]\n",
    "ls3 = [\"ab\", \"a\"]"
   ]
  },
  {
   "cell_type": "code",
   "execution_count": 68,
   "metadata": {},
   "outputs": [
    {
     "name": "stdout",
     "output_type": "stream",
     "text": [
      "['a', 'ab']\n",
      "a\n",
      "True\n",
      "\n"
     ]
    }
   ],
   "source": [
    "# print(Solution().longestCommonPrefix(ls1))\n",
    "# print(Solution().longestCommonPrefix(ls2))\n",
    "print(Solution().longestCommonPrefix(ls3))"
   ]
  },
  {
   "cell_type": "code",
   "execution_count": 77,
   "metadata": {},
   "outputs": [],
   "source": [
    "class Solution:\n",
    "    \"\"\"In this solution, we sort the strings based on the length of the strings.\n",
    "    Then we iterate over the first string and check if all the characters in the first string are present in all the strings.\n",
    "    The time complexity is O(nlogn) where n is the length of the longest string in the list.\n",
    "    \"\"\"\n",
    "\n",
    "    def longestCommonPrefix(self, strs: List[str]) -> str:\n",
    "        sorted_strs = sorted(strs, key=len)\n",
    "\n",
    "        if len(sorted_strs) <= 1:\n",
    "            return sorted_strs[0]\n",
    "\n",
    "        match = \"\"\n",
    "        for i in range(len(sorted_strs[0])):\n",
    "            if all(sorted_strs[0][i] == s[i] for s in sorted_strs):\n",
    "                match += sorted_strs[0][i]\n",
    "            else:\n",
    "                break\n",
    "\n",
    "        return match"
   ]
  },
  {
   "cell_type": "code",
   "execution_count": 78,
   "metadata": {},
   "outputs": [
    {
     "name": "stdout",
     "output_type": "stream",
     "text": [
      "fl\n",
      "\n",
      "a\n"
     ]
    }
   ],
   "source": [
    "print(Solution().longestCommonPrefix(ls1))\n",
    "print(Solution().longestCommonPrefix(ls2))\n",
    "print(Solution().longestCommonPrefix(ls3))"
   ]
  },
  {
   "cell_type": "code",
   "execution_count": 81,
   "metadata": {},
   "outputs": [],
   "source": [
    "class Solution:\n",
    "    \"\"\"In this solution, we iterate over the strings and check if the prefix is present in all the strings.\n",
    "    If the prefix is not present in all the strings, we remove the last character from the prefix.\n",
    "    The time complexity is O(n) where n is the length of the longest string in the list.\n",
    "    \"\"\"\n",
    "\n",
    "    def longestCommonPrefix(self, strs: List[str]) -> str:\n",
    "        if not strs:\n",
    "            return \"\"\n",
    "\n",
    "        prefix = strs[0]\n",
    "        for s in strs[1:]:\n",
    "            while not s.startswith(prefix) and prefix:\n",
    "                prefix = prefix[:-1]\n",
    "            if not prefix:\n",
    "                return \"\"\n",
    "\n",
    "        return prefix"
   ]
  },
  {
   "cell_type": "code",
   "execution_count": 82,
   "metadata": {},
   "outputs": [
    {
     "name": "stdout",
     "output_type": "stream",
     "text": [
      "fl\n",
      "\n",
      "a\n"
     ]
    }
   ],
   "source": [
    "print(Solution().longestCommonPrefix(ls1))\n",
    "print(Solution().longestCommonPrefix(ls2))\n",
    "print(Solution().longestCommonPrefix(ls3))"
   ]
  },
  {
   "cell_type": "markdown",
   "metadata": {},
   "source": [
    "```Markdown\n",
    "Q6:\n",
    "You are given a sorted unique integer array nums.\n",
    "\n",
    "A range [a,b] is the set of all integers from a to b (inclusive).\n",
    "\n",
    "Return the smallest sorted list of ranges that cover all the numbers in the array exactly. That is, each element of nums is covered by exactly one of the ranges, and there is no integer x such that x is in one of the ranges but not in nums.\n",
    "\n",
    "Each range [a,b] in the list should be output as:\n",
    "\n",
    "\"a->b\" if a != b\n",
    "\"a\" if a == b\n",
    " \n",
    "\n",
    "Example 1:\n",
    "\n",
    "Input: nums = [0,1,2,4,5,7]\n",
    "Output: [\"0->2\",\"4->5\",\"7\"]\n",
    "Explanation: The ranges are:\n",
    "[0,2] --> \"0->2\"\n",
    "[4,5] --> \"4->5\"\n",
    "[7,7] --> \"7\"\n",
    "Example 2:\n",
    "\n",
    "Input: nums = [0,2,3,4,6,8,9]\n",
    "Output: [\"0\",\"2->4\",\"6\",\"8->9\"]\n",
    "Explanation: The ranges are:\n",
    "[0,0] --> \"0\"\n",
    "[2,4] --> \"2->4\"\n",
    "[6,6] --> \"6\"\n",
    "[8,9] --> \"8->9\"\n",
    "```"
   ]
  },
  {
   "cell_type": "code",
   "execution_count": 27,
   "metadata": {},
   "outputs": [
    {
     "name": "stdout",
     "output_type": "stream",
     "text": [
      "mismatch: (1, 2)\n",
      "mismatch: (5, 6)\n",
      "mismatch: (7, 8)\n"
     ]
    }
   ],
   "source": []
  },
  {
   "cell_type": "code",
   "execution_count": 78,
   "metadata": {},
   "outputs": [],
   "source": [
    "nums = [0, 2, 3, 4, 6, 8, 9]\n",
    "\n",
    "result = []\n",
    "\n",
    "start = nums[0]\n",
    "for i in range(1, len(nums) + 1):\n",
    "    if i == len(nums) or nums[i] != nums[i - 1] + 1:\n",
    "        if start == nums[i - 1]:\n",
    "            result.append(str(start))\n",
    "        else:\n",
    "            result.append(f\"{start}->{nums[i - 1]}\")\n",
    "        if i < len(nums):\n",
    "            start = nums[i]"
   ]
  },
  {
   "cell_type": "code",
   "execution_count": 79,
   "metadata": {},
   "outputs": [
    {
     "data": {
      "text/plain": [
       "['0', '2->4', '6', '8->9']"
      ]
     },
     "execution_count": 79,
     "metadata": {},
     "output_type": "execute_result"
    }
   ],
   "source": [
    "result"
   ]
  },
  {
   "cell_type": "code",
   "execution_count": 97,
   "metadata": {},
   "outputs": [],
   "source": [
    "from typing import List\n",
    "\n",
    "\n",
    "class Solution:\n",
    "    \"\"\"The process to solve this problem is to iterate over the list of numbers and check if the next number is consecutive.\n",
    "    If the next number is not consecutive, we add the range to the result list.\n",
    "    The time complexity is O(n) where n is the length of the list.\n",
    "    \"\"\"\n",
    "\n",
    "    def summaryRanges(self, nums: List[int]) -> List[str]:\n",
    "        op_results = []\n",
    "        i = 0\n",
    "        while i < len(nums):\n",
    "            print(f\"org:{i}\")\n",
    "            pstart = nums[i]\n",
    "            print(f\"pstart:{pstart}\")\n",
    "            while i < len(nums) - 1 and nums[i + 1] == nums[i] + 1:\n",
    "                i += 1\n",
    "                print(f\"forced:{i}\")\n",
    "\n",
    "            if pstart != nums[i]:\n",
    "                # we hit a breakpoint and before we increment we marke the range\n",
    "                op_results.append(f\"{str(pstart)}->{str(nums[i])}\")\n",
    "            else:\n",
    "                # we capture the solo\n",
    "                op_results.append(str(nums[i]))\n",
    "\n",
    "            i += 1\n",
    "        print(op_results)\n",
    "        return op_results"
   ]
  },
  {
   "cell_type": "markdown",
   "metadata": {},
   "source": [
    "```Markdown\n",
    "Given an integer array nums sorted in non-decreasing order, return an array of the squares of each number sorted in non-decreasing order.\n",
    "\n",
    " \n",
    "\n",
    "Example 1:\n",
    "\n",
    "Input: nums = [-4,-1,0,3,10]\n",
    "Output: [0,1,9,16,100]\n",
    "Explanation: After squaring, the array becomes [16,1,0,9,100].\n",
    "After sorting, it becomes [0,1,9,16,100].\n",
    "Example 2:\n",
    "\n",
    "Input: nums = [-7,-3,2,3,11]\n",
    "Output: [4,9,9,49,121]\n",
    "```"
   ]
  },
  {
   "cell_type": "code",
   "execution_count": 100,
   "metadata": {},
   "outputs": [],
   "source": [
    "class Solution:\n",
    "    \"\"\"\n",
    "    The idea is to square the numbers and sort them based on the absolute value.\n",
    "    Here, we use the lambda function to sort the numbers based on the absolute value.\n",
    "    The time complexity is O(nlogn) where n is the length of the list.\n",
    "    \"\"\"\n",
    "\n",
    "    def sortedSquares(self, nums: List[int]) -> List[int]:\n",
    "        return list(map(lambda x: x**2, sorted(nums, key=lambda x: abs(x))))"
   ]
  },
  {
   "cell_type": "code",
   "execution_count": 101,
   "metadata": {},
   "outputs": [
    {
     "data": {
      "text/plain": [
       "[0, 1, 9, 16, 100]"
      ]
     },
     "execution_count": 101,
     "metadata": {},
     "output_type": "execute_result"
    }
   ],
   "source": [
    "Solution().sortedSquares([-4, -1, 0, 3, 10])"
   ]
  },
  {
   "cell_type": "code",
   "execution_count": 14,
   "metadata": {},
   "outputs": [],
   "source": [
    "# 0(N) approach : two pointer approach\n",
    "nums = [-4, -1, 0, 3, 10]\n",
    "from typing import List\n",
    "\n",
    "\n",
    "class Solution:\n",
    "    \"\"\"\n",
    "    Here what we are using two pointers to iterate over the list of numbers.\n",
    "    We are comparing the absolute value of the left pointer and the right pointer.\n",
    "    We are appending the square of the larger absolute value to the result list.\n",
    "    The time complexity is O(n) where n is the length of the\n",
    "    \"\"\"\n",
    "\n",
    "    def sortedSquares(self, nums: List[int]) -> List[int]:\n",
    "        sorted_nums = []\n",
    "        rpointer = len(nums) - 1\n",
    "        lpointer = 0\n",
    "\n",
    "        while lpointer <= rpointer:\n",
    "            if abs(nums[lpointer]) > abs(nums[rpointer]):\n",
    "                sorted_nums.append(nums[lpointer] ** 2)\n",
    "                lpointer += 1\n",
    "            else:\n",
    "                sorted_nums.append(nums[rpointer] ** 2)\n",
    "                rpointer -= 1\n",
    "\n",
    "        sorted_nums.reverse()\n",
    "\n",
    "        return sorted_nums"
   ]
  },
  {
   "cell_type": "code",
   "execution_count": 15,
   "metadata": {},
   "outputs": [
    {
     "data": {
      "text/plain": [
       "[0, 1, 9, 16, 100]"
      ]
     },
     "execution_count": 15,
     "metadata": {},
     "output_type": "execute_result"
    }
   ],
   "source": [
    "Solution().sortedSquares(nums)"
   ]
  },
  {
   "cell_type": "markdown",
   "metadata": {},
   "source": [
    "```markdown\n",
    "Write a function that reverses a string. The input string is given as an array of characters s.\n",
    "\n",
    "You must do this by modifying the input array in-place with O(1) extra memory.\n",
    "\n",
    " \n",
    "\n",
    "Example 1:\n",
    "\n",
    "Input: s = [\"h\",\"e\",\"l\",\"l\",\"o\"]\n",
    "Output: [\"o\",\"l\",\"l\",\"e\",\"h\"]\n",
    "Example 2:\n",
    "\n",
    "Input: s = [\"H\",\"a\",\"n\",\"n\",\"a\",\"h\"]\n",
    "Output: [\"h\",\"a\",\"n\",\"n\",\"a\",\"H\"]\n",
    "```"
   ]
  },
  {
   "cell_type": "code",
   "execution_count": 4,
   "metadata": {},
   "outputs": [],
   "source": [
    "nums = [\"H\", \"a\", \"n\", \"n\", \"a\", \"h\"]\n",
    "lstart = 0\n",
    "rstart = len(nums) - 1\n",
    "\n",
    "while lstart < rstart:\n",
    "    lval = nums[lstart]\n",
    "    rval = nums[rstart]\n",
    "    nums[lstart] = rval\n",
    "    nums[rstart] = lval\n",
    "    lstart += 1\n",
    "    rstart -= 1"
   ]
  },
  {
   "cell_type": "code",
   "execution_count": 5,
   "metadata": {},
   "outputs": [
    {
     "data": {
      "text/plain": [
       "['h', 'a', 'n', 'n', 'a', 'H']"
      ]
     },
     "execution_count": 5,
     "metadata": {},
     "output_type": "execute_result"
    }
   ],
   "source": [
    "class Solution:\n",
    "    \"\"\"\n",
    "    The idea is to use two pointers to reverse the string.\n",
    "    We iterate over the string and swap the characters using the two pointers.\n",
    "    The time complexity is O(n) where n is the length of the string and the space complexity is O(1).\n",
    "    \"\"\"\n",
    "\n",
    "    def reverseString(self, s: List[str]) -> None:\n",
    "        left, right = 0, len(s) - 1\n",
    "        while left < right:\n",
    "            s[left], s[right] = s[right], s[left]\n",
    "            left += 1\n",
    "            right -= 1"
   ]
  },
  {
   "cell_type": "markdown",
   "metadata": {},
   "source": [
    "```MarkdownA phrase is a palindrome if, after converting all uppercase letters into lowercase letters and removing all non-alphanumeric characters, it reads the same forward and backward. Alphanumeric characters include letters and numbers.\n",
    "\n",
    "Given a string s, return true if it is a palindrome, or false otherwise.\n",
    "\n",
    " \n",
    "\n",
    "Example 1:\n",
    "\n",
    "Input: s = \"A man, a plan, a canal: Panama\"\n",
    "Output: true\n",
    "Explanation: \"amanaplanacanalpanama\" is a palindrome.\n",
    "Example 2:\n",
    "\n",
    "Input: s = \"race a car\"\n",
    "Output: false\n",
    "Explanation: \"raceacar\" is not a palindrome.\n",
    "Example 3:\n",
    "\n",
    "Input: s = \" \"\n",
    "Output: true\n",
    "Explanation: s is an empty string \"\" after removing non-alphanumeric characters.\n",
    "Since an empty string reads the same forward and backward, it is a palindrome.\n",
    "```"
   ]
  },
  {
   "cell_type": "code",
   "execution_count": 12,
   "metadata": {},
   "outputs": [],
   "source": [
    "class Solution:\n",
    "    \"\"\"\n",
    "    The idea is to use the built-in reverse function to reverse the string.\n",
    "    The time complexity is O(n) where n is the length of the string and the space complexity is O(1).\n",
    "    \"\"\"\n",
    "\n",
    "    def isPalindrome(self, s: str) -> bool:\n",
    "        import re\n",
    "\n",
    "        s = re.sub(r\"[^a-zA-Z0-9]\", \"\", s).lower()\n",
    "        print(s)\n",
    "        lstart = 0\n",
    "        rstart = len(s) - 1\n",
    "        s_ls = list(s)\n",
    "        while lstart < rstart:\n",
    "            s_ls[lstart], s_ls[rstart] = s_ls[rstart], s_ls[lstart]\n",
    "            lstart += 1\n",
    "            rstart -= 1\n",
    "\n",
    "        return \"\".join(s_ls) == s"
   ]
  },
  {
   "cell_type": "code",
   "execution_count": 13,
   "metadata": {},
   "outputs": [],
   "source": [
    "class Solution:\n",
    "    \"\"\"\n",
    "    The idea is to check if the string is a palindrome by iterating over the string.\n",
    "    We use two pointers to check if the characters are the same from the left and right.\n",
    "    The time complexity is O(n) where n is the length of the string and the space complexity is O(1).\n",
    "    \"\"\"\n",
    "\n",
    "    def isPalindrome(self, s: str) -> bool:\n",
    "        s = \"\".join(c.lower() for c in s if c.isalnum())\n",
    "        left = 0\n",
    "        right = len(s) - 1\n",
    "\n",
    "        while left < right:\n",
    "            if s[left] != s[right]:\n",
    "                return False\n",
    "            left += 1\n",
    "            right -= 1\n",
    "\n",
    "        return True"
   ]
  },
  {
   "cell_type": "code",
   "execution_count": 15,
   "metadata": {},
   "outputs": [
    {
     "data": {
      "text/plain": [
       "True"
      ]
     },
     "execution_count": 15,
     "metadata": {},
     "output_type": "execute_result"
    }
   ],
   "source": [
    "s = \"A man, a plan, a canal: Panama\"\n",
    "# s = \"race a car\"\n",
    "Solution().isPalindrome(s)"
   ]
  },
  {
   "cell_type": "markdown",
   "metadata": {},
   "source": [
    "```Markdown\n",
    "Given a string s containing just the characters '(', ')', '{', '}', '[' and ']', determine if the input string is valid.\n",
    "\n",
    "An input string is valid if:\n",
    "\n",
    "Open brackets must be closed by the same type of brackets.\n",
    "Open brackets must be closed in the correct order.\n",
    "Every close bracket has a corresponding open bracket of the same type.\n",
    " \n",
    "\n",
    "Example 1:\n",
    "\n",
    "Input: s = \"()\"\n",
    "\n",
    "Output: true\n",
    "\n",
    "Example 2:\n",
    "\n",
    "Input: s = \"()[]{}\"\n",
    "\n",
    "Output: true\n",
    "\n",
    "Example 3:\n",
    "\n",
    "Input: s = \"(]\"\n",
    "\n",
    "Output: false\n",
    "\n",
    "Example 4:\n",
    "\n",
    "Input: s = \"([])\"\n",
    "\n",
    "Output: true\n",
    "\n",
    "```"
   ]
  },
  {
   "cell_type": "code",
   "execution_count": 4,
   "metadata": {},
   "outputs": [
    {
     "name": "stdout",
     "output_type": "stream",
     "text": [
      "{')': '(', '}': '{', ']': '['}\n"
     ]
    }
   ],
   "source": [
    "bracket_map = {\")\": \"(\", \"}\": \"{\", \"]\": \"[\"}\n",
    "print(bracket_map)"
   ]
  },
  {
   "cell_type": "code",
   "execution_count": 24,
   "metadata": {},
   "outputs": [],
   "source": [
    "s1 = \"()[]{}\"\n",
    "s2 = \"([}])\"\n",
    "val = s1"
   ]
  },
  {
   "cell_type": "code",
   "execution_count": 25,
   "metadata": {},
   "outputs": [
    {
     "name": "stdout",
     "output_type": "stream",
     "text": [
      "True\n"
     ]
    }
   ],
   "source": [
    "stack = []\n",
    "for s in val:\n",
    "    if s in bracket_map.keys():\n",
    "        if stack and stack[-1] == bracket_map[s]:\n",
    "            stack.pop()\n",
    "        else:\n",
    "            print(False)\n",
    "    else:\n",
    "        stack.append(s)\n",
    "\n",
    "print(not stack)"
   ]
  },
  {
   "cell_type": "code",
   "execution_count": 28,
   "metadata": {},
   "outputs": [],
   "source": [
    "class Solution:\n",
    "    \"\"\"\n",
    "    The idea is to use a stack to check if the brackets are valid.\n",
    "    We iterate over the string and check if the brackets are valid.\n",
    "    The time complexity is O(n) where n is the length of the string and the space complexity is O(n).\n",
    "    \"\"\"\n",
    "\n",
    "    def isValid(self, s: str) -> bool:\n",
    "        bracket_map = {\")\": \"(\", \"}\": \"{\", \"]\": \"[\"}\n",
    "        stack = []\n",
    "        for v in s:\n",
    "            if v in bracket_map.keys():\n",
    "                if stack and stack[-1] == bracket_map[v]:\n",
    "                    stack.pop()\n",
    "                else:\n",
    "                    return False\n",
    "            else:\n",
    "                stack.append(v)\n",
    "\n",
    "        return not stack"
   ]
  },
  {
   "cell_type": "code",
   "execution_count": 30,
   "metadata": {},
   "outputs": [
    {
     "data": {
      "text/plain": [
       "False"
      ]
     },
     "execution_count": 30,
     "metadata": {},
     "output_type": "execute_result"
    }
   ],
   "source": [
    "Solution().isValid(s1)\n",
    "Solution().isValid(s2)"
   ]
  },
  {
   "cell_type": "markdown",
   "metadata": {},
   "source": [
    "```\n",
    "You are keeping the scores for a baseball game with strange rules. At the beginning of the game, you start with an empty record.\n",
    "\n",
    "You are given a list of strings operations, where operations[i] is the ith operation you must apply to the record and is one of the following:\n",
    "\n",
    "An integer x.\n",
    "Record a new score of x.\n",
    "'+'.\n",
    "Record a new score that is the sum of the previous two scores.\n",
    "'D'.\n",
    "Record a new score that is the double of the previous score.\n",
    "'C'.\n",
    "Invalidate the previous score, removing it from the record.\n",
    "Return the sum of all the scores on the record after applying all the operations.\n",
    "\n",
    "The test cases are generated such that the answer and all intermediate calculations fit in a 32-bit integer and that all operations are valid.\n",
    "\n",
    " \n",
    "\n",
    "Example 1:\n",
    "\n",
    "Input: ops = [\"5\",\"2\",\"C\",\"D\",\"+\"]\n",
    "Output: 30\n",
    "Explanation:\n",
    "\"5\" - Add 5 to the record, record is now [5].\n",
    "\"2\" - Add 2 to the record, record is now [5, 2].\n",
    "\"C\" - Invalidate and remove the previous score, record is now [5].\n",
    "\"D\" - Add 2 * 5 = 10 to the record, record is now [5, 10].\n",
    "\"+\" - Add 5 + 10 = 15 to the record, record is now [5, 10, 15].\n",
    "The total sum is 5 + 10 + 15 = 30.\n",
    "Example 2:\n",
    "\n",
    "Input: ops = [\"5\",\"-2\",\"4\",\"C\",\"D\",\"9\",\"+\",\"+\"]\n",
    "Output: 27\n",
    "Explanation:\n",
    "\"5\" - Add 5 to the record, record is now [5].\n",
    "\"-2\" - Add -2 to the record, record is now [5, -2].\n",
    "\"4\" - Add 4 to the record, record is now [5, -2, 4].\n",
    "\"C\" - Invalidate and remove the previous score, record is now [5, -2].\n",
    "\"D\" - Add 2 * -2 = -4 to the record, record is now [5, -2, -4].\n",
    "\"9\" - Add 9 to the record, record is now [5, -2, -4, 9].\n",
    "\"+\" - Add -4 + 9 = 5 to the record, record is now [5, -2, -4, 9, 5].\n",
    "\"+\" - Add 9 + 5 = 14 to the record, record is now [5, -2, -4, 9, 5, 14].\n",
    "The total sum is 5 + -2 + -4 + 9 + 5 + 14 = 27.\n",
    "Example 3:\n",
    "\n",
    "Input: ops = [\"1\",\"C\"]\n",
    "Output: 0\n",
    "Explanation:\n",
    "\"1\" - Add 1 to the record, record is now [1].\n",
    "\"C\" - Invalidate and remove the previous score, record is now [].\n",
    "Since the record is empty, the total sum is 0\n",
    "\n",
    "For operation \"+\", there will always be at least two previous scores on the record.\n",
    "For operations \"C\" and \"D\", there will always be at least one previous score on the record\n",
    "```"
   ]
  },
  {
   "cell_type": "code",
   "execution_count": 56,
   "metadata": {},
   "outputs": [],
   "source": [
    "ops = [\"5\", \"-2\", \"4\", \"C\", \"D\", \"9\", \"+\", \"+\"]"
   ]
  },
  {
   "cell_type": "code",
   "execution_count": 57,
   "metadata": {},
   "outputs": [],
   "source": [
    "stack = []\n",
    "for s in ops:\n",
    "    if s.isnumeric() or s.startswith(\"-\"):\n",
    "        stack.append(int(s))\n",
    "    elif s.isalpha():\n",
    "        if len(stack) >= 1 and s == \"C\":\n",
    "            stack.pop()\n",
    "        else:\n",
    "            pass\n",
    "\n",
    "        if len(stack) >= 1 and s == \"D\":\n",
    "            stack.append(stack[-1] * 2)\n",
    "\n",
    "        else:\n",
    "            pass\n",
    "    else:\n",
    "        if len(stack) >= 2 and s == \"+\":\n",
    "            stack.append(sum(stack[-2:]))"
   ]
  },
  {
   "cell_type": "code",
   "execution_count": 58,
   "metadata": {},
   "outputs": [
    {
     "data": {
      "text/plain": [
       "27"
      ]
     },
     "execution_count": 58,
     "metadata": {},
     "output_type": "execute_result"
    }
   ],
   "source": [
    "sum(stack)"
   ]
  },
  {
   "cell_type": "code",
   "execution_count": 61,
   "metadata": {},
   "outputs": [],
   "source": [
    "from typing import List\n",
    "\n",
    "\n",
    "class Solution:\n",
    "    \"\"\"\n",
    "    The idea is to use a stack to calculate the points.\n",
    "    We iterate over the operations and check if the points are valid.\n",
    "    The time complexity is O(n) where n is the length of the operations and the space complexity is O(n).\n",
    "    \"\"\"\n",
    "\n",
    "    def calPoints(self, operations: List[str]) -> int:\n",
    "        stack = []\n",
    "        for s in operations:\n",
    "            if s.isnumeric() or s.startswith(\"-\"):\n",
    "                stack.append(int(s))\n",
    "            elif s.isalpha():\n",
    "                if len(stack) >= 1 and s == \"C\":\n",
    "                    stack.pop()\n",
    "                else:\n",
    "                    pass\n",
    "\n",
    "                if len(stack) >= 1 and s == \"D\":\n",
    "                    stack.append(stack[-1] * 2)\n",
    "\n",
    "                else:\n",
    "                    pass\n",
    "            else:\n",
    "                if len(stack) >= 2 and s == \"+\":\n",
    "                    stack.append(sum(stack[-2:]))\n",
    "\n",
    "        return sum(stack)"
   ]
  },
  {
   "cell_type": "code",
   "execution_count": 62,
   "metadata": {},
   "outputs": [
    {
     "data": {
      "text/plain": [
       "27"
      ]
     },
     "execution_count": 62,
     "metadata": {},
     "output_type": "execute_result"
    }
   ],
   "source": [
    "Solution().calPoints(ops)"
   ]
  },
  {
   "cell_type": "markdown",
   "metadata": {},
   "source": [
    "```\n",
    "Valid Palindrome\n",
    "Given a string s, return true if it is a palindrome, otherwise return false.\n",
    "\n",
    "A palindrome is a string that reads the same forward and backward. It is also case-insensitive and ignores all non-alphanumeric characters.\n",
    "\n",
    "Example 1:\n",
    "\n",
    "Input: s = \"Was it a car or a cat I saw?\"\n",
    "\n",
    "Output: true\n",
    "Explanation: After considering only alphanumerical characters we have \"wasitacaroracatisaw\", which is a palindrome.\n",
    "\n",
    "Example 2:\n",
    "\n",
    "Input: s = \"tab a cat\"\n",
    "\n",
    "Output: false\n",
    "Explanation: \"tabacat\" is not a palindrome.\n",
    "\n",
    "```"
   ]
  },
  {
   "cell_type": "code",
   "execution_count": 64,
   "metadata": {},
   "outputs": [],
   "source": [
    "class Solution:\n",
    "    def isPalindrome(self, s: str) -> bool:\n",
    "        s_ls = [s.lower() for s in s if s.isalnum()]\n",
    "        ss = \"\".join(s_ls)\n",
    "        lpointer = 0\n",
    "        rpointer = len(s_ls) - 1\n",
    "        while lpointer < rpointer:\n",
    "            s_ls[lpointer], s_ls[rpointer] = s_ls[rpointer], s_ls[lpointer]\n",
    "            lpointer += 1\n",
    "            rpointer -= 1\n",
    "\n",
    "        return True if \"\".join(s_ls) == ss else False"
   ]
  },
  {
   "cell_type": "code",
   "execution_count": 67,
   "metadata": {},
   "outputs": [],
   "source": [
    "s = \"Was it a car or a cat I saw?\"\n",
    "s = \"tab a cat\""
   ]
  },
  {
   "cell_type": "code",
   "execution_count": 68,
   "metadata": {},
   "outputs": [
    {
     "data": {
      "text/plain": [
       "False"
      ]
     },
     "execution_count": 68,
     "metadata": {},
     "output_type": "execute_result"
    }
   ],
   "source": [
    "Solution().isPalindrome(s)"
   ]
  },
  {
   "cell_type": "code",
   "execution_count": 69,
   "metadata": {},
   "outputs": [],
   "source": [
    "class Solution:\n",
    "    def isPalindrome(self, s: str) -> bool:\n",
    "        newStr = \"\"\n",
    "        for c in s:\n",
    "            if c.isalnum():\n",
    "                newStr += c.lower()\n",
    "        return newStr == newStr[::-1]"
   ]
  },
  {
   "cell_type": "code",
   "execution_count": 70,
   "metadata": {},
   "outputs": [
    {
     "data": {
      "text/plain": [
       "False"
      ]
     },
     "execution_count": 70,
     "metadata": {},
     "output_type": "execute_result"
    }
   ],
   "source": [
    "Solution().isPalindrome(s)"
   ]
  },
  {
   "cell_type": "markdown",
   "metadata": {},
   "source": [
    "```Markdown\n",
    "### Maximum Subarray\n",
    "Given an array of integers nums, find the subarray with the largest sum and return the sum.\n",
    "\n",
    "A subarray is a contiguous non-empty sequence of elements within an array.\n",
    "\n",
    "Example 1:\n",
    "\n",
    "Input: nums = [2,-3,4,-2,2,1,-1,4]\n",
    "\n",
    "Output: 8\n",
    "Explanation: The subarray [4,-2,2,1,-1,4] has the largest sum 8.\n",
    "\n",
    "Example 2:\n",
    "\n",
    "Input: nums = [-1]\n",
    "\n",
    "Output: -1\n",
    "Explanation: The subarray [-1] has the largest sum -1.\n",
    "\n",
    "```"
   ]
  },
  {
   "cell_type": "code",
   "execution_count": 2,
   "metadata": {},
   "outputs": [],
   "source": [
    "from typing import List\n",
    "\n",
    "\n",
    "class Solution:\n",
    "    \"\"\"\n",
    "    Check for maximum sum of subarray\n",
    "    \"\"\"\n",
    "\n",
    "    def maxSubArray(self, nums: List[int]) -> int:\n",
    "        max_sum = nums[0]\n",
    "        curr_sum = 0\n",
    "\n",
    "        for n in nums:\n",
    "            curr_sum = max(curr_sum, 0)\n",
    "            curr_sum += n\n",
    "\n",
    "            max_sum = max(max_sum, curr_sum)\n",
    "\n",
    "        return max_sum"
   ]
  },
  {
   "cell_type": "code",
   "execution_count": 4,
   "metadata": {},
   "outputs": [
    {
     "data": {
      "text/plain": [
       "8"
      ]
     },
     "execution_count": 4,
     "metadata": {},
     "output_type": "execute_result"
    }
   ],
   "source": [
    "nums = [-2, 1, -3, 4, -1, 2, 1, -5, 4]\n",
    "nums = [2, -3, 4, -2, 2, 1, -1, 4]\n",
    "Solution().maxSubArray(nums)"
   ]
  },
  {
   "cell_type": "markdown",
   "metadata": {},
   "source": [
    "```markdown\n",
    "## Longest Turbulent Subarray\n",
    "Given an integer array arr, return the length of a maximum size turbulent subarray of arr.\n",
    "\n",
    "A subarray is turbulent if the comparison sign flips between each adjacent pair of elements in the subarray.\n",
    "\n",
    "More formally, a subarray [arr[i], arr[i + 1], ..., arr[j]] of arr is said to be turbulent if and only if:\n",
    "\n",
    "For i <= k < j:\n",
    "arr[k] > arr[k + 1] when k is odd, and\n",
    "arr[k] < arr[k + 1] when k is even.\n",
    "Or, for i <= k < j:\n",
    "arr[k] > arr[k + 1] when k is even, and\n",
    "arr[k] < arr[k + 1] when k is odd.\n",
    " \n",
    "\n",
    "Example 1:\n",
    "\n",
    "Input: arr = [9,4,2,10,7,8,8,1,9]\n",
    "Output: 5\n",
    "Explanation: arr[1] > arr[2] < arr[3] > arr[4] < arr[5]\n",
    "Example 2:\n",
    "\n",
    "Input: arr = [4,8,12,16]\n",
    "Output: 2\n",
    "\n",
    "Example 3:\n",
    "\n",
    "Input: arr = [100]\n",
    "Output: 1\n",
    "```"
   ]
  },
  {
   "cell_type": "code",
   "execution_count": 2,
   "metadata": {},
   "outputs": [],
   "source": [
    "from typing import List\n",
    "\n",
    "\n",
    "class Solution:\n",
    "    \"\"\"\n",
    "    What we are trying to find is longest turbulence subarray.\n",
    "    The idea is to iterate over the list of numbers and check if the next number is greater or less than the previous number.\n",
    "    If the next number is greater or less than the previous number, we increment the current length.\n",
    "    If the next number is equal to the previous number, we reset the current length to 1.\n",
    "    The time complexity is O(n) where n is the length of the list.\n",
    "\n",
    "    \"\"\"\n",
    "\n",
    "    def maxTurbulenceSize(self, arr: List[int]) -> int:\n",
    "        max_len = curr_len = 1\n",
    "        last_was_greater = None\n",
    "\n",
    "        for i in range(1, len(arr)):\n",
    "            if arr[i] > arr[i - 1] and last_was_greater != True:\n",
    "                curr_len += 1\n",
    "                last_was_greater = True\n",
    "\n",
    "            elif arr[i] < arr[i - 1] and last_was_greater != False:\n",
    "                curr_len += 1\n",
    "                last_was_greater = False\n",
    "\n",
    "            else:\n",
    "                curr_len = 2 if arr[i] != arr[i - 1] else 1\n",
    "                last_was_greater = (\n",
    "                    True\n",
    "                    if arr[i] > arr[i - 1]\n",
    "                    else False if arr[i] < arr[i - 1] else None\n",
    "                )\n",
    "            max_len = max(max_len, curr_len)\n",
    "\n",
    "        return max_len"
   ]
  },
  {
   "cell_type": "code",
   "execution_count": 3,
   "metadata": {},
   "outputs": [
    {
     "data": {
      "text/plain": [
       "5"
      ]
     },
     "execution_count": 3,
     "metadata": {},
     "output_type": "execute_result"
    }
   ],
   "source": [
    "arr = [9, 4, 2, 10, 7, 8, 8, 1, 9]\n",
    "Solution().maxTurbulenceSize(arr)"
   ]
  },
  {
   "cell_type": "markdown",
   "metadata": {},
   "source": [
    "```markdown\n",
    "Contains Duplicate II\n",
    "Given an integer array nums and an integer k, return true if there are two distinct indices i and j in the array such that nums[i] == nums[j] and abs(i - j) <= k.\n",
    "\n",
    " Example 1:\n",
    "\n",
    "Input: nums = [1,2,3,1], k = 3\n",
    "Output: true\n",
    "Example 2:\n",
    "\n",
    "Input: nums = [1,0,1,1], k = 1\n",
    "Output: true\n",
    "Example 3:\n",
    "\n",
    "Input: nums = [1,2,3,1,2,3], k = 2\n",
    "Output: false\n",
    "\n",
    "```"
   ]
  },
  {
   "cell_type": "code",
   "execution_count": 27,
   "metadata": {},
   "outputs": [],
   "source": [
    "from typing import List\n",
    "\n",
    "\n",
    "class Solution:\n",
    "    \"\"\"\n",
    "    The idea is to use a set to store the numbers.\n",
    "    We iterate over the list of numbers and check if the number is in the set.\n",
    "    If the number is in the set, we return True.\n",
    "    If the number is not in the set, we add the number to the set.\n",
    "    The time complexity is O(n) where n is the length of the list.\n",
    "    \n",
    "    \"\"\"\n",
    "    def containsNearbyDuplicate(self, nums: List[int], k: int) -> bool:\n",
    "        window = set()\n",
    "        L = 0\n",
    "\n",
    "        for R in range(len(nums)):\n",
    "            if R - L > k:\n",
    "                print(f\"Breakpoint:{nums[R]}\")\n",
    "                window.remove(nums[L])\n",
    "                L += 1\n",
    "\n",
    "            if nums[R] in window:\n",
    "                print(f\"window:{window}\")\n",
    "                print(f\"R:{nums[R]}\")\n",
    "                return True\n",
    "\n",
    "            window.add(nums[R])\n",
    "\n",
    "        return False"
   ]
  },
  {
   "cell_type": "code",
   "execution_count": 28,
   "metadata": {},
   "outputs": [],
   "source": [
    "class Solution:\n",
    "    \"\"\"\n",
    "    The idea is to use a dictionary to store the numbers.\n",
    "    We iterate over the list of numbers and check if the number is in the dictionary.\n",
    "    If the number is in the dictionary and the difference between the index is less than or equal to k, we return True.\n",
    "    If the number is not in the dictionary, we add the number to the dictionary.\n",
    "    The time complexity is O(n) where n is the length of the list.\n",
    "    \"\"\"\n",
    "\n",
    "    def containsNearbyDuplicate(self, nums: List[int], k: int) -> bool:\n",
    "        found = {}\n",
    "        for i, num in enumerate(nums):\n",
    "            if num in found and i - found[num] <= k:\n",
    "                return True\n",
    "            found[num] = i\n",
    "        return False"
   ]
  },
  {
   "cell_type": "code",
   "execution_count": 29,
   "metadata": {},
   "outputs": [
    {
     "data": {
      "text/plain": [
       "True"
      ]
     },
     "execution_count": 29,
     "metadata": {},
     "output_type": "execute_result"
    }
   ],
   "source": [
    "arr1 = [1, 2, 3, 1]\n",
    "k1 = 3\n",
    "Solution().containsNearbyDuplicate(arr1, k1)"
   ]
  },
  {
   "cell_type": "code",
   "execution_count": 30,
   "metadata": {},
   "outputs": [
    {
     "data": {
      "text/plain": [
       "True"
      ]
     },
     "execution_count": 30,
     "metadata": {},
     "output_type": "execute_result"
    }
   ],
   "source": [
    "arr1 = [1, 0, 1, 1]\n",
    "k1 = 1\n",
    "Solution().containsNearbyDuplicate(arr1, k1)"
   ]
  },
  {
   "cell_type": "code",
   "execution_count": 31,
   "metadata": {},
   "outputs": [
    {
     "data": {
      "text/plain": [
       "False"
      ]
     },
     "execution_count": 31,
     "metadata": {},
     "output_type": "execute_result"
    }
   ],
   "source": [
    "arr1 = [1, 2, 3, 1, 2, 3]\n",
    "k1 = 2\n",
    "Solution().containsNearbyDuplicate(arr1, k1)"
   ]
  },
  {
   "cell_type": "markdown",
   "metadata": {},
   "source": [
    "```\n",
    "Given an array of integers arr and two integers k and threshold, return the number of sub-arrays of size k and average greater than or equal to threshold.\n",
    "\n",
    " \n",
    "\n",
    "Example 1:\n",
    "\n",
    "Input: arr = [2,2,2,2,5,5,5,8], k = 3, threshold = 4\n",
    "Output: 3\n",
    "Explanation: Sub-arrays [2,5,5],[5,5,5] and [5,5,8] have averages 4, 5 and 6 respectively. All other sub-arrays of size 3 have averages less than 4 (the threshold).\n",
    "Example 2:\n",
    "\n",
    "Input: arr = [11,13,17,23,29,31,7,5,2,3], k = 3, threshold = 5\n",
    "Output: 6\n",
    "Explanation: The first 6 sub-arrays of size 3 have averages greater than 5. Note that averages are not integers.\n",
    "```"
   ]
  },
  {
   "cell_type": "code",
   "execution_count": 106,
   "metadata": {},
   "outputs": [],
   "source": [
    "class Solution:\n",
    "    def numOfSubarrays(self, arr: List[int], k: int, threshold: int) -> int:\n",
    "        left = 0  # Left pointer for the sliding window\n",
    "        window_sum = 0  # Stores the sum of the current window of size k\n",
    "        target_sum = k * threshold  # Convert threshold to sum-based comparison\n",
    "        valid_subarrays = 0  # Counter for valid subarrays\n",
    "\n",
    "        for right in range(len(arr)):\n",
    "            window_sum += arr[right]  # Expand window by adding arr[right]\n",
    "\n",
    "            # When window reaches size k\n",
    "            if right - left + 1 == k:\n",
    "                if window_sum >= target_sum:\n",
    "                    valid_subarrays += 1\n",
    "\n",
    "                # Slide the window forward\n",
    "                window_sum -= arr[left]\n",
    "                left += 1\n",
    "\n",
    "        return valid_subarrays"
   ]
  },
  {
   "cell_type": "code",
   "execution_count": 107,
   "metadata": {},
   "outputs": [
    {
     "name": "stdout",
     "output_type": "stream",
     "text": [
      "8\n"
     ]
    },
    {
     "data": {
      "text/plain": [
       "3"
      ]
     },
     "execution_count": 107,
     "metadata": {},
     "output_type": "execute_result"
    }
   ],
   "source": [
    "arr = [2, 2, 2, 2, 5, 5, 5, 8]\n",
    "print(len(arr))\n",
    "k = 3\n",
    "threshold = 4\n",
    "Solution().numOfSubarrays(arr, k, threshold)"
   ]
  },
  {
   "cell_type": "code",
   "execution_count": 108,
   "metadata": {},
   "outputs": [
    {
     "name": "stdout",
     "output_type": "stream",
     "text": [
      "10\n"
     ]
    },
    {
     "data": {
      "text/plain": [
       "6"
      ]
     },
     "execution_count": 108,
     "metadata": {},
     "output_type": "execute_result"
    }
   ],
   "source": [
    "arr = [11, 13, 17, 23, 29, 31, 7, 5, 2, 3]\n",
    "print(len(arr))\n",
    "k = 3\n",
    "threshold = 5\n",
    "Solution().numOfSubarrays(arr, k, threshold)"
   ]
  },
  {
   "cell_type": "code",
   "execution_count": null,
   "metadata": {},
   "outputs": [],
   "source": []
  },
  {
   "cell_type": "code",
   "execution_count": null,
   "metadata": {},
   "outputs": [],
   "source": []
  },
  {
   "cell_type": "code",
   "execution_count": null,
   "metadata": {},
   "outputs": [],
   "source": []
  },
  {
   "cell_type": "markdown",
   "metadata": {},
   "source": [
    "###################################################################################### END ###########################################################################"
   ]
  }
 ],
 "metadata": {
  "kernelspec": {
   "display_name": "Python 3",
   "language": "python",
   "name": "python3"
  },
  "language_info": {
   "codemirror_mode": {
    "name": "ipython",
    "version": 3
   },
   "file_extension": ".py",
   "mimetype": "text/x-python",
   "name": "python",
   "nbconvert_exporter": "python",
   "pygments_lexer": "ipython3",
   "version": "3.12.9"
  }
 },
 "nbformat": 4,
 "nbformat_minor": 2
}
