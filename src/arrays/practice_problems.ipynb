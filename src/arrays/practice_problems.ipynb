{
 "cells": [
  {
   "cell_type": "markdown",
   "metadata": {
    "vscode": {
     "languageId": "plaintext"
    }
   },
   "source": [
    "## Arrays\n",
    "In this notebook we will discuss about all the leetcode problems as discussed on arrays"
   ]
  },
  {
   "cell_type": "markdown",
   "metadata": {
    "vscode": {
     "languageId": "plaintext"
    }
   },
   "source": [
    "```markdown\n",
    "Q1:\n",
    "Given an integer array nums of size n, return the number with the value closest to 0 in nums. If there are multiple answers, return the number with the largest value.\n",
    "\n",
    "Example 1:\n",
    "Input: nums = [-4,-2,1,4,8]\n",
    "Output: 1\n",
    "Explanation:\n",
    "The distance from -4 to 0 is |-4| = 4.\n",
    "The distance from -2 to 0 is |-2| = 2.\n",
    "The distance from 1 to 0 is |1| = 1.\n",
    "The distance from 4 to 0 is |4| = 4.\n",
    "The distance from 8 to 0 is |8| = 8.\n",
    "Thus, the closest number to 0 in the array is 1.\n",
    "\n",
    "Example 2:\n",
    "Input: nums = [2,-1,1]\n",
    "Output: 1\n",
    "Explanation: 1 and -1 are both the closest numbers to 0, so 1 being larger is returned.\n",
    "```"
   ]
  },
  {
   "cell_type": "code",
   "execution_count": 1,
   "metadata": {},
   "outputs": [],
   "source": [
    "nums = [-4,-2,1,4,8]"
   ]
  },
  {
   "cell_type": "code",
   "execution_count": 2,
   "metadata": {},
   "outputs": [
    {
     "data": {
      "text/plain": [
       "1"
      ]
     },
     "execution_count": 2,
     "metadata": {},
     "output_type": "execute_result"
    }
   ],
   "source": [
    "ls = list(map(lambda x: abs(x-0), nums))\n",
    "ls[ls.index(min(ls))]"
   ]
  },
  {
   "cell_type": "code",
   "execution_count": 3,
   "metadata": {},
   "outputs": [
    {
     "name": "stdout",
     "output_type": "stream",
     "text": [
      "[2, 1, 1]\n"
     ]
    }
   ],
   "source": [
    "nums = [2,-1,1]\n",
    "ls = list(map(lambda x: abs(x-0), nums))\n",
    "print(ls)"
   ]
  },
  {
   "cell_type": "code",
   "execution_count": 4,
   "metadata": {},
   "outputs": [
    {
     "data": {
      "text/plain": [
       "1"
      ]
     },
     "execution_count": 4,
     "metadata": {},
     "output_type": "execute_result"
    }
   ],
   "source": [
    "ls.index(min(ls))"
   ]
  },
  {
   "cell_type": "code",
   "execution_count": 5,
   "metadata": {},
   "outputs": [],
   "source": [
    "nums = [-4,-2,1,4,8]\n",
    "nums = [2,-1,1]"
   ]
  },
  {
   "cell_type": "code",
   "execution_count": 6,
   "metadata": {},
   "outputs": [],
   "source": [
    "from typing import List\n",
    "# solution 1 with sort and binary search slower approach O(nlogn) + O(logn) = O(nlogn) \n",
    "class Solution:\n",
    "    def findClosestNumber(self, nums: List[int]) -> int:\n",
    "        min_diff = min(list(map(lambda x: abs(x - 0), nums)))\n",
    "        val = max(list(filter(lambda x: abs(x - 0) == min_diff, nums)))\n",
    "        return val"
   ]
  },
  {
   "cell_type": "code",
   "execution_count": 7,
   "metadata": {},
   "outputs": [
    {
     "data": {
      "text/plain": [
       "1"
      ]
     },
     "execution_count": 7,
     "metadata": {},
     "output_type": "execute_result"
    }
   ],
   "source": [
    "Solution().findClosestNumber(nums)"
   ]
  },
  {
   "cell_type": "code",
   "execution_count": 8,
   "metadata": {},
   "outputs": [],
   "source": [
    "# faster solution using one pass and O(1) space complexity\n",
    "class Solution:\n",
    "    def findClosestNumber(self, nums: List[int]) -> int:\n",
    "        closest = nums[0]\n",
    "        for x in nums:\n",
    "            if abs(x) < abs(closest):\n",
    "                closest = x\n",
    "\n",
    "        if closest < 0 and abs(closest) in nums:\n",
    "            return abs(closest)\n",
    "        else:\n",
    "            return closest"
   ]
  },
  {
   "cell_type": "code",
   "execution_count": 9,
   "metadata": {},
   "outputs": [
    {
     "data": {
      "text/plain": [
       "1"
      ]
     },
     "execution_count": 9,
     "metadata": {},
     "output_type": "execute_result"
    }
   ],
   "source": [
    "Solution().findClosestNumber(nums)"
   ]
  },
  {
   "cell_type": "code",
   "execution_count": 10,
   "metadata": {},
   "outputs": [
    {
     "data": {
      "text/plain": [
       "1"
      ]
     },
     "execution_count": 10,
     "metadata": {},
     "output_type": "execute_result"
    }
   ],
   "source": [
    "class Solution:\n",
    "    def findClosestNumber(self, nums: List[int]) -> int:\n",
    "        return min(sorted(nums, reverse=True), key=abs)\n",
    "\n",
    "Solution().findClosestNumber(nums)"
   ]
  },
  {
   "cell_type": "markdown",
   "metadata": {},
   "source": [
    "```Markdown\n",
    "Q2:\n",
    "You are given two strings word1 and word2. Merge the strings by adding letters in alternating order, starting with word1. If a string is longer than the other, append the additional letters onto the end of the merged string.\n",
    "\n",
    "Return the merged string.\n",
    "\n",
    " \n",
    "\n",
    "Example 1:\n",
    "\n",
    "Input: word1 = \"abc\", word2 = \"pqr\"\n",
    "Output: \"apbqcr\"\n",
    "Explanation: The merged string will be merged as so:\n",
    "word1:  a   b   c\n",
    "word2:    p   q   r\n",
    "merged: a p b q c r\n",
    "Example 2:\n",
    "\n",
    "Input: word1 = \"ab\", word2 = \"pqrs\"\n",
    "Output: \"apbqrs\"\n",
    "Explanation: Notice that as word2 is longer, \"rs\" is appended to the end.\n",
    "word1:  a   b \n",
    "word2:    p   q   r   s\n",
    "merged: a p b q   r   s\n",
    "Example 3:\n",
    "\n",
    "Input: word1 = \"abcd\", word2 = \"pq\"\n",
    "Output: \"apbqcd\"\n",
    "Explanation: Notice that as word1 is longer, \"cd\" is appended to the end.\n",
    "word1:  a   b   c   d\n",
    "word2:    p   q \n",
    "merged: a p b q c   d\n",
    "```"
   ]
  },
  {
   "cell_type": "code",
   "execution_count": 11,
   "metadata": {},
   "outputs": [],
   "source": [
    "word1 = \"abcd\"\n",
    "word2 = \"pq\"\n",
    "\n",
    "min_len = min(len(word1), len(word2))\n",
    "new_word = \"\"\n",
    "for i in range(min_len):\n",
    "    new_word += word1[i] + word2[i]\n",
    "\n",
    "new_word += word1[min_len:] + word2[min_len:]"
   ]
  },
  {
   "cell_type": "code",
   "execution_count": 12,
   "metadata": {},
   "outputs": [
    {
     "data": {
      "text/plain": [
       "'apbqcd'"
      ]
     },
     "execution_count": 12,
     "metadata": {},
     "output_type": "execute_result"
    }
   ],
   "source": [
    "# basic solution with O(n) time complexity and O(n) space complexity \n",
    "class Solution:\n",
    "    def mergeAlternately(self, word1: str, word2: str) -> str:\n",
    "        min_len = min(len(word1), len(word2))\n",
    "        new_word = \"\"\n",
    "        for i in range(min_len):\n",
    "            new_word += word1[i] + word2[i]\n",
    "\n",
    "        new_word += word1[min_len:] + word2[min_len:]\n",
    "\n",
    "        return new_word\n",
    "\n",
    "word1 = \"abcd\"\n",
    "word2 = \"pq\"\n",
    "\n",
    "Solution().mergeAlternately(word1, word2)"
   ]
  },
  {
   "cell_type": "code",
   "execution_count": 13,
   "metadata": {},
   "outputs": [
    {
     "data": {
      "text/plain": [
       "'apbqcd'"
      ]
     },
     "execution_count": 13,
     "metadata": {},
     "output_type": "execute_result"
    }
   ],
   "source": [
    "# better solution with O(n) time complexity and O(1) space complexity\n",
    "class Solution:\n",
    "    def mergeAlternately(self, word1: str, word2: str) -> str:\n",
    "\n",
    "        res = \"\"\n",
    "        len1 = len(word1)\n",
    "        len2 = len(word2)\n",
    "\n",
    "        for i in range(max(len1, len2)):\n",
    "            if i < len1:\n",
    "                res += word1[i]\n",
    "            if i < len2:\n",
    "                res += word2[i]\n",
    "\n",
    "        return res\n",
    "\n",
    "word1 = \"abcd\"\n",
    "word2 = \"pq\"\n",
    "\n",
    "Solution().mergeAlternately(word1, word2)"
   ]
  },
  {
   "cell_type": "markdown",
   "metadata": {},
   "source": [
    "```Markdown\n",
    "Q3:\n",
    "Given two strings s and t, return true if s is a subsequence of t, or false otherwise.\n",
    "\n",
    "A subsequence of a string is a new string that is formed from the original string by deleting some (can be none) of the characters without disturbing the relative positions of the remaining characters. (i.e., \"ace\" is a subsequence of \"abcde\" while \"aec\" is not).\n",
    "\n",
    " \n",
    "\n",
    "Example 1:\n",
    "\n",
    "Input: s = \"abc\", t = \"ahbgdc\"\n",
    "Output: true\n",
    "Example 2:\n",
    "\n",
    "Input: s = \"axc\", t = \"ahbgdc\"\n",
    "Output: false\n",
    "```\n",
    "\n",
    "```"
   ]
  },
  {
   "cell_type": "code",
   "execution_count": 3,
   "metadata": {},
   "outputs": [],
   "source": [
    "whole_word = \"baab\"\n",
    "sub_word = \"ab\""
   ]
  },
  {
   "cell_type": "code",
   "execution_count": 4,
   "metadata": {},
   "outputs": [],
   "source": [
    "class Solution:\n",
    "    def isSubsequence(self, s: str, t: str) -> bool:\n",
    "        \"\"\"\n",
    "        The idea is to iterate over the string t and check if the characters in s are present in t in the same order.\n",
    "        The time complexity is O(n) where n is the length of the string t.\n",
    "        \"\"\"\n",
    "        if len(s) > len(t):\n",
    "            return False\n",
    "        if len(s) == 0:\n",
    "            return True\n",
    "        j = 0\n",
    "        for i in range(len(t)):\n",
    "            if j <= len(s) - 1:\n",
    "                if s[j] == t[i]:\n",
    "                    j += 1\n",
    "        return j == len(s)"
   ]
  },
  {
   "cell_type": "code",
   "execution_count": 5,
   "metadata": {},
   "outputs": [
    {
     "data": {
      "text/plain": [
       "True"
      ]
     },
     "execution_count": 5,
     "metadata": {},
     "output_type": "execute_result"
    }
   ],
   "source": [
    "Solution().isSubsequence(sub_word, whole_word)"
   ]
  },
  {
   "cell_type": "markdown",
   "metadata": {},
   "source": [
    "```Markdown\n",
    "Q4:\n",
    "You are given an array prices where prices[i] is the price of a given stock on the ith day.\n",
    "\n",
    "You want to maximize your profit by choosing a single day to buy one stock and choosing a different day in the future to sell that stock.\n",
    "\n",
    "Return the maximum profit you can achieve from this transaction. If you cannot achieve any profit, return 0.\n",
    "\n",
    " \n",
    "\n",
    "Example 1:\n",
    "\n",
    "Input: prices = [7,1,5,3,6,4]\n",
    "Output: 5\n",
    "Explanation: Buy on day 2 (price = 1) and sell on day 5 (price = 6), profit = 6-1 = 5.\n",
    "Note that buying on day 2 and selling on day 1 is not allowed because you must buy before you sell.\n",
    "Example 2:\n",
    "\n",
    "Input: prices = [7,6,4,3,1]\n",
    "Output: 0\n",
    "Explanation: In this case, no transactions are done and the max profit = 0.\n",
    "```"
   ]
  },
  {
   "cell_type": "code",
   "execution_count": 35,
   "metadata": {},
   "outputs": [],
   "source": [
    "from typing import List\n",
    "\n",
    "\n",
    "class Solution:\n",
    "    def maxProfit(self, prices: List[int]) -> int:\n",
    "        if sorted(prices, reverse=True) == prices:\n",
    "            return 0\n",
    "\n",
    "        diff = []\n",
    "        for i in range(len(prices) - 1):\n",
    "            if prices[i] == max(prices):\n",
    "                continue\n",
    "            max_diffs = max([l - prices[i] for l in prices[i + 1 :]])\n",
    "            diff.append(max_diffs)\n",
    "\n",
    "        return max(diff)"
   ]
  },
  {
   "cell_type": "code",
   "execution_count": 40,
   "metadata": {},
   "outputs": [
    {
     "name": "stdout",
     "output_type": "stream",
     "text": [
      "5\n",
      "0\n"
     ]
    }
   ],
   "source": [
    "ls = [7, 1, 5, 3, 6, 4]\n",
    "ls1 = [7, 6, 4, 3, 1]\n",
    "print(Solution().maxProfit(ls))\n",
    "print(Solution().maxProfit(ls1))"
   ]
  },
  {
   "cell_type": "markdown",
   "metadata": {},
   "source": [
    "Better solution with O(n) time complexity and O(1) space complexity"
   ]
  },
  {
   "cell_type": "code",
   "execution_count": 39,
   "metadata": {},
   "outputs": [],
   "source": [
    "class Solution:\n",
    "    def maxProfit(self, prices: List[int]) -> int:\n",
    "        if sorted(prices, reverse=True) == prices:\n",
    "            return 0\n",
    "\n",
    "        min_price = float(\"inf\")\n",
    "        max_profit = 0\n",
    "\n",
    "        for price in prices:\n",
    "            if price < min_price:\n",
    "                min_price = price\n",
    "\n",
    "            cal_profit = price - min_price\n",
    "\n",
    "            if max_profit < cal_profit:\n",
    "                max_profit = cal_profit\n",
    "\n",
    "        return max_profit"
   ]
  },
  {
   "cell_type": "code",
   "execution_count": 41,
   "metadata": {},
   "outputs": [
    {
     "name": "stdout",
     "output_type": "stream",
     "text": [
      "5\n",
      "0\n"
     ]
    }
   ],
   "source": [
    "print(Solution().maxProfit(ls))\n",
    "print(Solution().maxProfit(ls1))"
   ]
  },
  {
   "cell_type": "code",
   "execution_count": 44,
   "metadata": {},
   "outputs": [],
   "source": [
    "class Solution:\n",
    "    def maxProfit(self, prices: List[int]) -> int:\n",
    "        buy_price = prices[0]\n",
    "        profit = 0\n",
    "\n",
    "        for p in prices[1:]:\n",
    "            if buy_price > p:\n",
    "                buy_price = p\n",
    "\n",
    "            profit = max(profit, p - buy_price)\n",
    "\n",
    "        return profit"
   ]
  },
  {
   "cell_type": "code",
   "execution_count": 45,
   "metadata": {},
   "outputs": [
    {
     "name": "stdout",
     "output_type": "stream",
     "text": [
      "5\n",
      "0\n"
     ]
    }
   ],
   "source": [
    "print(Solution().maxProfit(ls))\n",
    "print(Solution().maxProfit(ls1))"
   ]
  },
  {
   "cell_type": "markdown",
   "metadata": {},
   "source": [
    "```"
   ]
  },
  {
   "cell_type": "markdown",
   "metadata": {},
   "source": [
    "```markdown\n",
    "Q5:\n",
    "Write a function to find the longest common prefix string amongst an array of strings.\n",
    "\n",
    "If there is no common prefix, return an empty string \"\".\n",
    "\n",
    " \n",
    "\n",
    "Example 1:\n",
    "\n",
    "Input: strs = [\"flower\",\"flow\",\"flight\"]\n",
    "Output: \"fl\"\n",
    "Example 2:\n",
    "\n",
    "Input: strs = [\"dog\",\"racecar\",\"car\"]\n",
    "Output: \"\"\n",
    "Explanation: There is no common prefix among the input strings.\n",
    "```\n",
    "\n",
    "```"
   ]
  },
  {
   "cell_type": "code",
   "execution_count": 66,
   "metadata": {},
   "outputs": [],
   "source": [
    "class Solution:\n",
    "    def longestCommonPrefix(self, strs: List[str]) -> str:\n",
    "        sorted_strs = sorted(strs, key=len)\n",
    "\n",
    "\n",
    "        if len(sorted_strs) <= 1:\n",
    "            return sorted_strs[0]\n",
    "\n",
    "        for i in range(len(sorted_strs[0])):\n",
    "            print(sorted_strs[0][i])\n",
    "            all_match = all(sorted_strs[0][i] == s[i] for s in sorted_strs)\n",
    "            print(all_match)\n",
    "            if not all_match:\n",
    "                return sorted_strs[0][:i]\n",
    "        return \"\""
   ]
  },
  {
   "cell_type": "code",
   "execution_count": 67,
   "metadata": {},
   "outputs": [],
   "source": [
    "ls1 = [\"flower\", \"flow\", \"flight\"]\n",
    "ls2 = [\"dog\", \"racecar\", \"car\"]\n",
    "ls3 = [\"ab\", \"a\"]"
   ]
  },
  {
   "cell_type": "code",
   "execution_count": 68,
   "metadata": {},
   "outputs": [
    {
     "name": "stdout",
     "output_type": "stream",
     "text": [
      "['a', 'ab']\n",
      "a\n",
      "True\n",
      "\n"
     ]
    }
   ],
   "source": [
    "# print(Solution().longestCommonPrefix(ls1))\n",
    "# print(Solution().longestCommonPrefix(ls2))\n",
    "print(Solution().longestCommonPrefix(ls3))"
   ]
  },
  {
   "cell_type": "code",
   "execution_count": 77,
   "metadata": {},
   "outputs": [],
   "source": [
    "class Solution:\n",
    "    \"\"\"In this solution, we sort the strings based on the length of the strings.\n",
    "    Then we iterate over the first string and check if all the characters in the first string are present in all the strings.\n",
    "    The time complexity is O(nlogn) where n is the length of the longest string in the list.\n",
    "    \"\"\"\n",
    "\n",
    "    def longestCommonPrefix(self, strs: List[str]) -> str:\n",
    "        sorted_strs = sorted(strs, key=len)\n",
    "\n",
    "        if len(sorted_strs) <= 1:\n",
    "            return sorted_strs[0]\n",
    "\n",
    "        match = \"\"\n",
    "        for i in range(len(sorted_strs[0])):\n",
    "            if all(sorted_strs[0][i] == s[i] for s in sorted_strs):\n",
    "                match += sorted_strs[0][i]\n",
    "            else:\n",
    "                break\n",
    "\n",
    "        return match"
   ]
  },
  {
   "cell_type": "code",
   "execution_count": 78,
   "metadata": {},
   "outputs": [
    {
     "name": "stdout",
     "output_type": "stream",
     "text": [
      "fl\n",
      "\n",
      "a\n"
     ]
    }
   ],
   "source": [
    "print(Solution().longestCommonPrefix(ls1))\n",
    "print(Solution().longestCommonPrefix(ls2))\n",
    "print(Solution().longestCommonPrefix(ls3))"
   ]
  },
  {
   "cell_type": "code",
   "execution_count": 81,
   "metadata": {},
   "outputs": [],
   "source": [
    "class Solution:\n",
    "    \"\"\"In this solution, we iterate over the strings and check if the prefix is present in all the strings.\n",
    "    If the prefix is not present in all the strings, we remove the last character from the prefix.\n",
    "    The time complexity is O(n) where n is the length of the longest string in the list.\n",
    "    \"\"\"\n",
    "\n",
    "    def longestCommonPrefix(self, strs: List[str]) -> str:\n",
    "        if not strs:\n",
    "            return \"\"\n",
    "\n",
    "        prefix = strs[0]\n",
    "        for s in strs[1:]:\n",
    "            while not s.startswith(prefix) and prefix:\n",
    "                prefix = prefix[:-1]\n",
    "            if not prefix:\n",
    "                return \"\"\n",
    "\n",
    "        return prefix"
   ]
  },
  {
   "cell_type": "code",
   "execution_count": 82,
   "metadata": {},
   "outputs": [
    {
     "name": "stdout",
     "output_type": "stream",
     "text": [
      "fl\n",
      "\n",
      "a\n"
     ]
    }
   ],
   "source": [
    "print(Solution().longestCommonPrefix(ls1))\n",
    "print(Solution().longestCommonPrefix(ls2))\n",
    "print(Solution().longestCommonPrefix(ls3))"
   ]
  },
  {
   "cell_type": "code",
   "execution_count": null,
   "metadata": {},
   "outputs": [],
   "source": []
  }
 ],
 "metadata": {
  "kernelspec": {
   "display_name": "Python 3",
   "language": "python",
   "name": "python3"
  },
  "language_info": {
   "codemirror_mode": {
    "name": "ipython",
    "version": 3
   },
   "file_extension": ".py",
   "mimetype": "text/x-python",
   "name": "python",
   "nbconvert_exporter": "python",
   "pygments_lexer": "ipython3",
   "version": "3.12.9"
  }
 },
 "nbformat": 4,
 "nbformat_minor": 2
}
