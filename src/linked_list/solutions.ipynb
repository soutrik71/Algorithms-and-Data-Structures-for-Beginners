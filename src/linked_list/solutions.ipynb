{
 "cells": [
  {
   "cell_type": "code",
   "execution_count": 1,
   "metadata": {},
   "outputs": [],
   "source": [
    "from typing import List, Tuple, Dict, Any, Optional"
   ]
  },
  {
   "cell_type": "markdown",
   "metadata": {
    "vscode": {
     "languageId": "plaintext"
    }
   },
   "source": [
    "### Reverse linked list\n",
    "Given the head of a singly linked list, reverse the list, and return the reversed list.\n",
    "\n",
    " \n",
    "\n",
    "Example 1:\\\n",
    "Input: head = [1,2,3,4,5]\\\n",
    "Output: [5,4,3,2,1]\n",
    "\n",
    "Example 2:\\\n",
    "Input: head = [1,2]\\\n",
    "Output: [2,1]\n",
    "\n",
    "Example 3:\\\n",
    "Input: head = []\\\n",
    "Output: []\n",
    " "
   ]
  },
  {
   "cell_type": "code",
   "execution_count": 2,
   "metadata": {},
   "outputs": [],
   "source": [
    "# Definition for singly-linked list.\n",
    "class ListNode:\n",
    "    def __init__(self, val=0, next=None):\n",
    "        self.val = val\n",
    "        self.next = next\n",
    "\n",
    "\n",
    "class Solution:\n",
    "    def reverseList(self, head: Optional[ListNode]) -> Optional[ListNode]:\n",
    "        prev = None\n",
    "        curr = head\n",
    "\n",
    "        while curr:\n",
    "            next_node = curr.next\n",
    "            curr.next = prev\n",
    "            prev = curr\n",
    "            curr = next_node\n",
    "\n",
    "        return prev"
   ]
  },
  {
   "cell_type": "code",
   "execution_count": 3,
   "metadata": {},
   "outputs": [
    {
     "name": "stdout",
     "output_type": "stream",
     "text": [
      "<__main__.ListNode object at 0x00000208E1511D80>\n"
     ]
    }
   ],
   "source": [
    "sol = Solution()\n",
    "print(sol.reverseList(ListNode(1, ListNode(2, ListNode(3, ListNode(4, ListNode(5)))))))"
   ]
  },
  {
   "cell_type": "markdown",
   "metadata": {},
   "source": [
    "#### Sort Append linked list\n",
    "\n",
    "You are given the heads of two sorted linked lists list1 and list2.\n",
    "\n",
    "Merge the two lists into one sorted list. The list should be made by splicing together the nodes of the first two lists.\n",
    "\n",
    "Return the head of the merged linked list.\n",
    "\n",
    " \n",
    "\n",
    "Example 1:\n",
    "\n",
    "\n",
    "Input: list1 = [1,2,4], list2 = [1,3,4]\n",
    "Output: [1,1,2,3,4,4]\n",
    "Example 2:\n",
    "\n",
    "Input: list1 = [], list2 = []\n",
    "Output: []\n",
    "Example 3:\n",
    "\n",
    "Input: list1 = [], list2 = [0]\n",
    "Output: [0]"
   ]
  },
  {
   "cell_type": "code",
   "execution_count": 12,
   "metadata": {},
   "outputs": [],
   "source": [
    "# Definition for singly-linked list.\n",
    "class ListNode:\n",
    "    def __init__(self, val=0, next=None):\n",
    "        self.val = val\n",
    "        self.next = next\n",
    "\n",
    "\n",
    "class Solution:\n",
    "    \"\"\"\n",
    "    Merge two sorted linked lists and return it as a sorted list. The list should be made by splicing together the nodes of the first two lists.\n",
    "    \"\"\"\n",
    "\n",
    "    def mergeTwoLists(\n",
    "        self, list1: Optional[ListNode], list2: Optional[ListNode]\n",
    "    ) -> Optional[ListNode]:\n",
    "        dummy_node = ListNode()\n",
    "        curr = dummy_node\n",
    "\n",
    "        while list1 and list2:\n",
    "            if list1.val > list2.val:\n",
    "                curr.next = list2\n",
    "                list2 = list2.next\n",
    "            else:\n",
    "                curr.next = list1\n",
    "                list1 = list1.next\n",
    "\n",
    "            curr = curr.next\n",
    "\n",
    "        if list1:\n",
    "            curr.next = list1\n",
    "        else:\n",
    "            curr.next = list2\n",
    "\n",
    "        return dummy_node.next"
   ]
  },
  {
   "cell_type": "code",
   "execution_count": 13,
   "metadata": {},
   "outputs": [
    {
     "name": "stdout",
     "output_type": "stream",
     "text": [
      "<__main__.ListNode object at 0x000001A70568E2F0>\n"
     ]
    }
   ],
   "source": [
    "solution = Solution()\n",
    "print(\n",
    "    solution.mergeTwoLists(\n",
    "        ListNode(1, ListNode(2, ListNode(4))), ListNode(1, ListNode(3, ListNode(4)))\n",
    "    )\n",
    ")"
   ]
  },
  {
   "cell_type": "code",
   "execution_count": null,
   "metadata": {},
   "outputs": [],
   "source": []
  },
  {
   "cell_type": "code",
   "execution_count": null,
   "metadata": {},
   "outputs": [],
   "source": []
  }
 ],
 "metadata": {
  "kernelspec": {
   "display_name": "ic-engine",
   "language": "python",
   "name": "python3"
  },
  "language_info": {
   "codemirror_mode": {
    "name": "ipython",
    "version": 3
   },
   "file_extension": ".py",
   "mimetype": "text/x-python",
   "name": "python",
   "nbconvert_exporter": "python",
   "pygments_lexer": "ipython3",
   "version": "3.10.14"
  }
 },
 "nbformat": 4,
 "nbformat_minor": 2
}
